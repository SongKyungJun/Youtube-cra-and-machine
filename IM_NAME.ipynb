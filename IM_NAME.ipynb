{
 "cells": [
  {
   "cell_type": "code",
   "execution_count": 3,
   "id": "7f982c2e",
   "metadata": {},
   "outputs": [
    {
     "name": "stdout",
     "output_type": "stream",
     "text": [
      "Collecting opencv-python\n",
      "  Downloading opencv_python-4.5.4.58-cp38-cp38-win_amd64.whl (35.1 MB)\n",
      "Requirement already satisfied: numpy>=1.17.3 in c:\\users\\song kyung jun\\anaconda3\\lib\\site-packages (from opencv-python) (1.19.5)\n",
      "Installing collected packages: opencv-python\n",
      "Successfully installed opencv-python-4.5.4.58\n"
     ]
    }
   ],
   "source": [
    "#!pip install opencv-python"
   ]
  },
  {
   "cell_type": "code",
   "execution_count": 2,
   "id": "291d4a05",
   "metadata": {},
   "outputs": [],
   "source": [
    "import cv2\n",
    "import pandas as pd\n",
    "import numpy as np"
   ]
  },
  {
   "cell_type": "code",
   "execution_count": 22,
   "id": "755b3059",
   "metadata": {},
   "outputs": [],
   "source": [
    "result_df = pd.read_excel(\"./kj2.xlsx\")"
   ]
  },
  {
   "cell_type": "code",
   "execution_count": 261,
   "id": "64fe2cf3",
   "metadata": {
    "scrolled": true
   },
   "outputs": [],
   "source": [
    "result_delete = pd.read_excel('./002.xlsx')\n",
    "result_delete = result_delete.sort_values(by='subscribers',ascending=True)\n",
    "result_delete.reset_index(inplace=True, drop=True)\n",
    "result_df['index_1'] = result_delete['index']\n",
    "result_df['search_list_1'] = result_delete['search_list']"
   ]
  },
  {
   "cell_type": "code",
   "execution_count": null,
   "id": "e48de473",
   "metadata": {
    "scrolled": true
   },
   "outputs": [],
   "source": [
    "result_df.reset_index(inplace=True, drop=True)\n",
    "result_df.drop('level_0', axis=1)"
   ]
  },
  {
   "cell_type": "code",
   "execution_count": 24,
   "id": "a34a759a",
   "metadata": {},
   "outputs": [],
   "source": [
    "#사진 불러오고 resize\n",
    "\n",
    "def file_name_maker(result_df:pd.DataFrame, length: int):\n",
    "    for i in range(len(result_df[:length])):\n",
    "        search_list = result_df['search_list'][i]\n",
    "        index = result_df['index'][i]\n",
    "        file_name = ('file_' + str(index))\n",
    "        \n",
    "        img_array = np.fromfile(f\"./이미지2/('{search_list}', {index}).jpg\", np.uint8)\n",
    "        dt = cv2.imdecode(img_array, cv2.IMREAD_ANYCOLOR)\n",
    "        globals()[file_name] = cv2.resize(dt, dsize = (360, 202),interpolation=cv2.INTER_AREA)\n",
    "        image_list.append(globals()[file_name])"
   ]
  },
  {
   "cell_type": "code",
   "execution_count": 25,
   "id": "56e8f2e3",
   "metadata": {},
   "outputs": [
    {
     "data": {
      "text/plain": [
       "삼겹살 먹방     335\n",
       "순대 먹방      296\n",
       "김치찌개 먹방    293\n",
       "카레 먹방      292\n",
       "볶음밥 먹방     284\n",
       "분모자 먹방     257\n",
       "곱창 먹방       68\n",
       "중국당면 먹방      6\n",
       "라면 먹방        2\n",
       "디저트 먹방       2\n",
       "Name: search_list, dtype: int64"
      ]
     },
     "execution_count": 25,
     "metadata": {},
     "output_type": "execute_result"
    }
   ],
   "source": [
    "pd.value_counts(result_df['search_list'])"
   ]
  },
  {
   "cell_type": "code",
   "execution_count": 27,
   "id": "2ccc7196",
   "metadata": {},
   "outputs": [
    {
     "data": {
      "text/plain": [
       "1835"
      ]
     },
     "execution_count": 27,
     "metadata": {},
     "output_type": "execute_result"
    }
   ],
   "source": [
    "len(image_list)"
   ]
  },
  {
   "cell_type": "code",
   "execution_count": 29,
   "id": "bb8a0e8a",
   "metadata": {},
   "outputs": [],
   "source": [
    "result_df['label'] = ''"
   ]
  },
  {
   "cell_type": "code",
   "execution_count": 51,
   "id": "6825941c",
   "metadata": {},
   "outputs": [
    {
     "data": {
      "text/plain": [
       "'라면 먹방'"
      ]
     },
     "execution_count": 51,
     "metadata": {},
     "output_type": "execute_result"
    }
   ],
   "source": [
    "abc = result_df[result_df['search_list'].str.contains('삼겹살')]\n",
    "result_df['search_list'][0]"
   ]
  },
  {
   "cell_type": "code",
   "execution_count": 55,
   "id": "7fbe63f1",
   "metadata": {},
   "outputs": [],
   "source": [
    "def label_maker(k = pd.DataFrame):\n",
    "    for a in range(len(k)):\n",
    "        name = k['search_list'][a]\n",
    "        if ('삼겹살' in name):\n",
    "            k['label'][a] = 0\n",
    "        elif ('순대' in name):\n",
    "            k['label'][a] = 1\n",
    "        elif ('김치찌개' in name):\n",
    "            k['label'][a] = 2\n",
    "        elif ('카레' in name):\n",
    "            k['label'][a] = 3\n",
    "        elif ('볶음밥' in name):\n",
    "            k['label'][a] = 4\n",
    "        elif ('분모자' in name):\n",
    "            k['label'][a] = 5\n",
    "        elif ('곱창' in name):\n",
    "            k['label'][a] = 6\n",
    "        elif ('중국당면' in name):\n",
    "            k['label'][a] = 7\n",
    "        elif ('라면' in name):\n",
    "            k['label'][a] = 8\n",
    "        elif ('디저트' in name):\n",
    "            k['label'][a] = 9 "
   ]
  },
  {
   "cell_type": "code",
   "execution_count": null,
   "id": "5a91a0ca",
   "metadata": {
    "scrolled": true
   },
   "outputs": [],
   "source": [
    "label_maker(result_df)"
   ]
  },
  {
   "cell_type": "code",
   "execution_count": 28,
   "id": "bddd3292",
   "metadata": {},
   "outputs": [],
   "source": [
    "#사진 보기\n",
    "cv2.imshow('image', file_7503)\n",
    "cv2.waitKey(0)\n",
    "cv2.destroyAllWindows()"
   ]
  },
  {
   "cell_type": "code",
   "execution_count": 2,
   "id": "f2f0f791",
   "metadata": {},
   "outputs": [],
   "source": [
    "c = np.load('./image_data_211106.npy')"
   ]
  },
  {
   "cell_type": "code",
   "execution_count": 3,
   "id": "8aab08b8",
   "metadata": {},
   "outputs": [
    {
     "data": {
      "text/plain": [
       "dtype('float32')"
      ]
     },
     "execution_count": 3,
     "metadata": {},
     "output_type": "execute_result"
    }
   ],
   "source": [
    "c = c.astype(np.float32)\n",
    "c.dtype"
   ]
  },
  {
   "cell_type": "code",
   "execution_count": 4,
   "id": "c688e278",
   "metadata": {},
   "outputs": [],
   "source": [
    "c_1 = c/255"
   ]
  },
  {
   "cell_type": "code",
   "execution_count": 59,
   "id": "0de6411e",
   "metadata": {},
   "outputs": [],
   "source": [
    "np.save('./det_im', c)"
   ]
  },
  {
   "cell_type": "code",
   "execution_count": 5,
   "id": "ec52471f",
   "metadata": {},
   "outputs": [],
   "source": [
    "np.save('./image_data_211106_255', c_1)"
   ]
  },
  {
   "cell_type": "code",
   "execution_count": 60,
   "id": "51cf232b",
   "metadata": {},
   "outputs": [],
   "source": [
    "result_df.to_excel('./det_im.xlsx', index=False)"
   ]
  },
  {
   "cell_type": "code",
   "execution_count": 249,
   "id": "91850f96",
   "metadata": {
    "scrolled": true
   },
   "outputs": [],
   "source": [
    "result_df_2 = result_df.sort_values(by='index_1', ascending=True)\n",
    "result_df_2 = result_df_2.set_index('index_1')"
   ]
  },
  {
   "cell_type": "code",
   "execution_count": null,
   "id": "5b1743b0",
   "metadata": {
    "collapsed": true
   },
   "outputs": [],
   "source": [
    "result_df_2 = result_df_2.drop(['index','search_list_1'], axis='columns')"
   ]
  },
  {
   "cell_type": "code",
   "execution_count": 251,
   "id": "95ce5881",
   "metadata": {},
   "outputs": [],
   "source": [
    "result_df_2.to_excel('./result_df_im_2.xlsx', index=False)"
   ]
  }
 ],
 "metadata": {
  "kernelspec": {
   "display_name": "Python 3 (ipykernel)",
   "language": "python",
   "name": "python3"
  },
  "language_info": {
   "codemirror_mode": {
    "name": "ipython",
    "version": 3
   },
   "file_extension": ".py",
   "mimetype": "text/x-python",
   "name": "python",
   "nbconvert_exporter": "python",
   "pygments_lexer": "ipython3",
   "version": "3.8.12"
  }
 },
 "nbformat": 4,
 "nbformat_minor": 5
}

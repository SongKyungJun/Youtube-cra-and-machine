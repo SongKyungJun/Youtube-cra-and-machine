{
 "cells": [
  {
   "cell_type": "code",
   "execution_count": 2,
   "id": "547a4c9c",
   "metadata": {},
   "outputs": [],
   "source": [
    "import pandas as pd\n",
    "import seaborn as sns\n",
    "import matplotlib.pyplot as plt\n",
    "import numpy as np"
   ]
  },
  {
   "cell_type": "code",
   "execution_count": 3,
   "id": "15e4ea10",
   "metadata": {},
   "outputs": [],
   "source": [
    "result_df = pd.read_excel(\"./211106_preall_fil.xlsx\")"
   ]
  },
  {
   "cell_type": "code",
   "execution_count": 4,
   "id": "61cd6a72",
   "metadata": {},
   "outputs": [],
   "source": [
    "result_df['subscribers']=result_df['subscribers'].astype('int64')"
   ]
  },
  {
   "cell_type": "code",
   "execution_count": null,
   "id": "3ea7bef8",
   "metadata": {},
   "outputs": [],
   "source": [
    "result_df['score'] = ''"
   ]
  },
  {
   "cell_type": "code",
   "execution_count": 51,
   "id": "e6628582",
   "metadata": {
    "scrolled": true
   },
   "outputs": [],
   "source": [
    "#인덱스 재정렬\n",
    "result_df = result_df.sort_values(by='subscribers',ascending=True)\n",
    "result_df.reset_index(inplace=True, drop=True)"
   ]
  },
  {
   "cell_type": "code",
   "execution_count": 52,
   "id": "1b4f533f",
   "metadata": {
    "scrolled": true
   },
   "outputs": [],
   "source": [
    "result_df['index'] = result_df.index"
   ]
  },
  {
   "cell_type": "code",
   "execution_count": 53,
   "id": "feb3d65a",
   "metadata": {},
   "outputs": [
    {
     "data": {
      "text/plain": [
       "'\\n0~3349: 2%\\n3350~6739: 3%\\n6740~7679: 4%\\n7680~8689: 5%\\n8690~10099: 6%\\n\\n10100~64199: 9%\\n64200~1029999: 11%\\n\\n1030000~1599999: 13%\\n1600000~2000000: 15%\\n'"
      ]
     },
     "execution_count": 53,
     "metadata": {},
     "output_type": "execute_result"
    }
   ],
   "source": [
    "'''\n",
    "0~3349: 2%\n",
    "3350~6739: 3%\n",
    "6740~7679: 4%\n",
    "7680~8689: 5%\n",
    "8690~10099: 6%\n",
    "\n",
    "10100~64199: 9%\n",
    "64200~1029999: 11%\n",
    "\n",
    "1030000~1599999: 13%\n",
    "1600000~2000000: 15%\n",
    "'''"
   ]
  },
  {
   "cell_type": "code",
   "execution_count": 10,
   "id": "6b154065",
   "metadata": {},
   "outputs": [],
   "source": [
    "# 음수는 다 0으로\n",
    "def min_to_zero(result_df: pd.DataFrame):\n",
    "    for i in range(len(result_df)):\n",
    "        j = result_df['subscribers'][i]\n",
    "        if j<3349:\n",
    "            if result_df['viewcount'][i] < (result_df['subscribers'][i] * 0.02):\n",
    "                result_df['score'][i] = 0\n",
    "            else:\n",
    "                result_df['score'][i] = result_df['viewcount'][i] - (result_df['subscribers'][i] * 0.02)\n",
    "        elif j >=3350 and j< 6740:\n",
    "            if result_df['viewcount'][i] < result_df['subscribers'][i] * 0.03:\n",
    "                result_df['score'][i] = 0\n",
    "            else:\n",
    "                result_df['score'][i] = result_df['viewcount'][i] - (result_df['subscribers'][i] * 0.03)\n",
    "        elif j >=6740 and j< 7680:\n",
    "            if result_df['viewcount'][i] < result_df['subscribers'][i] * 0.04:\n",
    "                result_df['score'][i] = 0\n",
    "            else:\n",
    "                result_df['score'][i] = result_df['viewcount'][i] - (result_df['subscribers'][i] * 0.04)\n",
    "        elif j >=7680 and j< 8690:\n",
    "            if result_df['viewcount'][i] < result_df['subscribers'][i] * 0.05:\n",
    "                result_df['score'][i] = 0\n",
    "            else:\n",
    "                result_df['score'][i] = result_df['viewcount'][i] - (result_df['subscribers'][i] * 0.05)\n",
    "        elif j >=8690 and j< 10100:\n",
    "            if result_df['viewcount'][i] < result_df['subscribers'][i] * 0.06:\n",
    "                result_df['score'][i] = 0\n",
    "            else:\n",
    "                result_df['score'][i] = result_df['viewcount'][i] - (result_df['subscribers'][i] * 0.06)\n",
    "        elif j >=10100 and j< 64200:\n",
    "            if result_df['viewcount'][i] < result_df['subscribers'][i] * 0.09:\n",
    "                result_df['score'][i] = 0\n",
    "            else:\n",
    "                result_df['score'][i] = result_df['viewcount'][i] - (result_df['subscribers'][i] * 0.09)\n",
    "        elif j >=64200 and j< 1030000:\n",
    "            if result_df['viewcount'][i] < (result_df['subscribers'][i] * 0.11):\n",
    "                result_df['score'][i] = 0\n",
    "            else:\n",
    "                result_df['score'][i] = result_df['viewcount'][i] - (result_df['subscribers'][i] * 0.11)\n",
    "        elif j >=1030000 and j< 1600000:\n",
    "            if result_df['viewcount'][i] < result_df['subscribers'][i] * 0.13:\n",
    "                result_df['score'][i] = 0\n",
    "            else:\n",
    "                result_df['score'][i] = result_df['viewcount'][i] - (result_df['subscribers'][i] * 0.13)\n",
    "        elif j >=1600000 and j< 2000000:\n",
    "            if result_df['viewcount'][i] < result_df['subscribers'][i] * 0.15:\n",
    "                result_df['score'][i] = 0\n",
    "            else:\n",
    "                result_df['score'][i] = result_df['viewcount'][i] - (result_df['subscribers'][i] * 0.15)\n",
    "\n",
    "#음수 다 남겨놓기\n",
    "def just_cal(result_df: pd.DataFrame):\n",
    "    for i in range(len(result_df)):\n",
    "        j = result_df['subscribers'][i]\n",
    "        if j<3349:\n",
    "            result_df['score'][i] = result_df['viewcount'][i] - (result_df['subscribers'][i] * 0.02)\n",
    "        elif j >=3350 and j< 6740:\n",
    "            result_df['score'][i] = result_df['viewcount'][i] - (result_df['subscribers'][i] * 0.03)\n",
    "        elif j >=6740 and j< 7680:\n",
    "            result_df['score'][i] = result_df['viewcount'][i] - (result_df['subscribers'][i] * 0.04)\n",
    "        elif j >=7680 and j< 8690:\n",
    "            result_df['score'][i] = result_df['viewcount'][i] - (result_df['subscribers'][i] * 0.05)\n",
    "        elif j >=8690 and j< 10100:\n",
    "            result_df['score'][i] = result_df['viewcount'][i] - (result_df['subscribers'][i] * 0.06)\n",
    "        elif j >=10100 and j< 64200:\n",
    "            result_df['score'][i] = result_df['viewcount'][i] - (result_df['subscribers'][i] * 0.09)\n",
    "        elif j >=64200 and j< 1030000:\n",
    "            result_df['score'][i] = result_df['viewcount'][i] - (result_df['subscribers'][i] * 0.11)\n",
    "        elif j >=1030000 and j< 1600000:\n",
    "            result_df['score'][i] = result_df['viewcount'][i] - (result_df['subscribers'][i] * 0.13)\n",
    "        elif j >=1600000 and j< 2000000:\n",
    "            result_df['score'][i] = result_df['viewcount'][i] - (result_df['subscribers'][i] * 0.15)"
   ]
  },
  {
   "cell_type": "code",
   "execution_count": null,
   "id": "a8a60a1d",
   "metadata": {
    "scrolled": true
   },
   "outputs": [],
   "source": [
    "# min_to_zero(result_df)\n",
    "# result_df"
   ]
  },
  {
   "cell_type": "code",
   "execution_count": null,
   "id": "fd35a928",
   "metadata": {},
   "outputs": [],
   "source": [
    "just_cal(result_df)\n",
    "result_df"
   ]
  },
  {
   "cell_type": "code",
   "execution_count": 12,
   "id": "8175cfb1",
   "metadata": {},
   "outputs": [],
   "source": [
    "result_df.to_excel('./211108_score.xlsx', index=False)"
   ]
  },
  {
   "cell_type": "code",
   "execution_count": 79,
   "id": "b6131c30",
   "metadata": {},
   "outputs": [],
   "source": [
    "result_df_1.to_excel('./result_df_1.xlsx', index=False)"
   ]
  }
 ],
 "metadata": {
  "kernelspec": {
   "display_name": "Python 3 (ipykernel)",
   "language": "python",
   "name": "python3"
  },
  "language_info": {
   "codemirror_mode": {
    "name": "ipython",
    "version": 3
   },
   "file_extension": ".py",
   "mimetype": "text/x-python",
   "name": "python",
   "nbconvert_exporter": "python",
   "pygments_lexer": "ipython3",
   "version": "3.8.12"
  }
 },
 "nbformat": 4,
 "nbformat_minor": 5
}

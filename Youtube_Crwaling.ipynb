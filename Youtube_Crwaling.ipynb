{
 "cells": [
  {
   "cell_type": "code",
   "execution_count": null,
   "id": "ab412549",
   "metadata": {},
   "outputs": [],
   "source": [
    "#!pip install webdriver-manager"
   ]
  },
  {
   "cell_type": "code",
   "execution_count": 1,
   "id": "ca66b310",
   "metadata": {},
   "outputs": [],
   "source": [
    "import re\n",
    "import pandas as pd\n",
    "from pandas import DataFrame \n",
    "\n",
    "import openpyxl\n",
    "from webdriver_manager.chrome import ChromeDriverManager\n",
    "from selenium import webdriver \n",
    "from selenium.common.exceptions import NoSuchElementException \n",
    "from selenium.webdriver.common.keys import Keys\n",
    "\n",
    "# 시간\n",
    "from tqdm import tqdm \n",
    "import time\n",
    "\n",
    "#이미지 다운\n",
    "import urllib.request\n",
    "\n",
    "#오류\n",
    "import traceback"
   ]
  },
  {
   "cell_type": "code",
   "execution_count": 2,
   "id": "673f96a7",
   "metadata": {},
   "outputs": [
    {
     "name": "stderr",
     "output_type": "stream",
     "text": [
      "[WDM] - \n",
      "\n",
      "[WDM] - ====== WebDriver manager ======\n",
      "[WDM] - Current google-chrome version is 95.0.4638\n",
      "[WDM] - Get LATEST driver version for 95.0.4638\n",
      "[WDM] - Driver [C:\\Users\\Song Kyung Jun\\.wdm\\drivers\\chromedriver\\win32\\95.0.4638.54\\chromedriver.exe] found in cache\n",
      "C:\\Users\\Public\\Documents\\ESTsoft\\CreatorTemp/ipykernel_16532/4267179865.py:10: DeprecationWarning: use options instead of chrome_options\n",
      "  driver = webdriver.Chrome(ChromeDriverManager().install(),chrome_options=options)\n"
     ]
    }
   ],
   "source": [
    "#driver = webdriver.Chrome('C:/Users/Administrator/jpnt/Final Project/chromedriver')\n",
    "\n",
    "## Webdirver option 설정\n",
    "options = webdriver.ChromeOptions()\n",
    "options.add_argument('headless') #크롬 띄우기창 없애기\n",
    "options.add_argument('window-size=1920x1080') # 크롬드라이버 창크기 \n",
    "options.add_argument(\"disable-gpu\") #그래픽 성능 낮춰서 크롤링 성능 쪼금 높이기 \n",
    "options.add_argument(\"user-agent=Mozilla/5.0 (Windows NT 10.0; Win64; x64) AppleWebKit/537.36 (KHTML, like Gecko) Chrome/94.0.4606.81 Safari/537.36\") # 네트워크 설정 \n",
    "options.add_argument(\"lang=ko_KR\") # 사이트 주언어 \n",
    "driver = webdriver.Chrome(ChromeDriverManager().install(),chrome_options=options)"
   ]
  },
  {
   "cell_type": "code",
   "execution_count": 4,
   "id": "107e8dd8",
   "metadata": {},
   "outputs": [],
   "source": [
    "#검색할 데이터 명\n",
    "df = pd.read_excel(\"path/data.xlsx\")"
   ]
  },
  {
   "cell_type": "code",
   "execution_count": 5,
   "id": "706e8f47",
   "metadata": {},
   "outputs": [
    {
     "name": "stderr",
     "output_type": "stream",
     "text": [
      "1it [03:09, 189.83s/it]"
     ]
    },
    {
     "name": "stdout",
     "output_type": "stream",
     "text": [
      "0\n"
     ]
    },
    {
     "name": "stderr",
     "output_type": "stream",
     "text": [
      "3it [11:04, 223.36s/it]"
     ]
    },
    {
     "name": "stdout",
     "output_type": "stream",
     "text": [
      "2\n"
     ]
    },
    {
     "name": "stderr",
     "output_type": "stream",
     "text": [
      "\r\n",
      "4it [14:17, 211.38s/it]"
     ]
    },
    {
     "name": "stdout",
     "output_type": "stream",
     "text": [
      "3\n"
     ]
    },
    {
     "name": "stderr",
     "output_type": "stream",
     "text": [
      "7it [25:14, 211.86s/it]"
     ]
    },
    {
     "name": "stdout",
     "output_type": "stream",
     "text": [
      "6\n"
     ]
    },
    {
     "name": "stderr",
     "output_type": "stream",
     "text": [
      "9it [33:58, 238.62s/it]"
     ]
    },
    {
     "name": "stdout",
     "output_type": "stream",
     "text": [
      "8\n"
     ]
    },
    {
     "name": "stderr",
     "output_type": "stream",
     "text": [
      "\r\n",
      "10it [37:04, 222.49s/it]"
     ]
    },
    {
     "name": "stdout",
     "output_type": "stream",
     "text": [
      "9\n"
     ]
    },
    {
     "name": "stderr",
     "output_type": "stream",
     "text": [
      "12it [45:50, 229.17s/it]\n"
     ]
    }
   ],
   "source": [
    "data_list = []\n",
    "# 포문\n",
    "for idx, row in tqdm(df.iterrows()): \n",
    "    cd_idx = row['cd_idx']\n",
    "    search_name = row['search_list'] \n",
    "    try:\n",
    "        #영상 업로드 시간을 한정하기 위해 자동으로 click하게 만든 코드\n",
    "        youtubeUrl = (f\"https://www.youtube.com/results?search_query={search_name}\") \n",
    "        driver.get(youtubeUrl)\n",
    "        time.sleep(1.5)\n",
    "        driver.find_element_by_xpath('//*[@id=\"container\"]/ytd-toggle-button-renderer/a').click()\n",
    "        time.sleep(0.6)\n",
    "        driver.find_element_by_css_selector(\"#collapse-content ytd-search-filter-group-renderer:nth-child(1) ytd-search-filter-renderer:nth-of-type(3) a\").click()\n",
    "        time.sleep(0.6)\n",
    "        \n",
    "        no_of_pagedowns = 300 #유튜브에서 한 검색어당 500개 이상은 잘 안나옴\n",
    "        elem = driver.find_element_by_tag_name(\"body\") \n",
    "        while no_of_pagedowns: \n",
    "            elem.send_keys(Keys.PAGE_DOWN) \n",
    "            time.sleep(0.5) \n",
    "            no_of_pagedowns -= 1\n",
    "        boxs = driver.find_elements_by_id(\"dismissible\")\n",
    "\n",
    "\n",
    "        for box in boxs: \n",
    "            title = box.find_element_by_css_selector('#video-title') \n",
    "            link = title.get_attribute(\"href\") \n",
    "            title_name = box.find_element_by_css_selector('#video-title').text \n",
    "            img_ = box.find_element_by_css_selector('#img') \n",
    "            img = img_.get_attribute('src')\n",
    "            while img is None: #None값을 없애기 위해 강제적으로 while문 사용\n",
    "                img = img_.get_attribute('src')\n",
    "\n",
    "            name = box.find_element_by_css_selector('#channel-info').text  \n",
    "            regdate_ment = box.find_element_by_css_selector('#metadata-line > span:nth-child(2)').text \n",
    "            viewcount = box.find_element_by_css_selector('#metadata-line > span:nth-child(1)').text \n",
    "            \n",
    "            \n",
    "            data = {\n",
    "                'search_list': search_name, \n",
    "                    \"link\": link,\n",
    "                    \"title_name\": title_name,\n",
    "                    \"image\": img, \"name\": name, \n",
    "                    \"regdate_ment\": regdate_ment, \"viewcount\": viewcount}\n",
    "            data_list.append(data)\n",
    "\n",
    "\n",
    "    except: #렉 걸려서 멈췄을 때를 대비하기 위해\n",
    "        print(idx) #몇번째에서 렉걸렸고 못 받아온건지 알기 위한 코드\n",
    "        continue\n",
    "\n",
    "result_df = pd.DataFrame(data_list,columns=[\n",
    "    'search_list', 'link',\n",
    "    'title_name', 'image','name', \n",
    "    'regdate_ment', 'viewcount']) "
   ]
  },
  {
   "cell_type": "code",
   "execution_count": 6,
   "id": "89b8b35b",
   "metadata": {},
   "outputs": [],
   "source": [
    "result_df.to_excel(f'path/211105_result.xlsx', index=False)"
   ]
  },
  {
   "cell_type": "code",
   "execution_count": 3,
   "id": "48ac8dd0",
   "metadata": {},
   "outputs": [],
   "source": [
    "#읽어오기, 중복값 제거\n",
    "result_df = pd.read_excel('path/211105_result.xlsx')\n",
    "result_df_drop = result_df.drop_duplicates()\n",
    "#index reset하고 열 드랍\n",
    "rir = result_df_drop.reset_index()\n",
    "rir = rir.drop(['index'], axis=1)\n",
    "rir\n",
    "rir.to_excel(f'path/rir_fof.xlsx', index=False)"
   ]
  },
  {
   "cell_type": "code",
   "execution_count": 4,
   "id": "091e2284",
   "metadata": {},
   "outputs": [
    {
     "data": {
      "text/plain": [
       "순대 먹방       503\n",
       "분모자 먹방      494\n",
       "삼겹살 먹방      492\n",
       "김치찌개 먹방     488\n",
       "카레 먹방       482\n",
       "볶음밥 먹방      476\n",
       "푸드파이터 먹방    196\n",
       "먹방 ASMR     173\n",
       "곱창 먹방       120\n",
       "중국당면 먹방      39\n",
       "라면 먹방         3\n",
       "디저트 먹방        3\n",
       "Name: search_list, dtype: int64"
      ]
     },
     "execution_count": 4,
     "metadata": {},
     "output_type": "execute_result"
    }
   ],
   "source": [
    "#None 조회에는 is를 쓴다.\n",
    "pd.value_counts(result_df['search_list'])"
   ]
  },
  {
   "cell_type": "code",
   "execution_count": 5,
   "id": "43814da0",
   "metadata": {},
   "outputs": [
    {
     "data": {
      "text/plain": [
       "3457"
      ]
     },
     "execution_count": 5,
     "metadata": {},
     "output_type": "execute_result"
    }
   ],
   "source": [
    "len(rir)"
   ]
  },
  {
   "cell_type": "code",
   "execution_count": 3,
   "id": "0427bb36",
   "metadata": {},
   "outputs": [],
   "source": [
    "rir = pd.read_excel('path/rir_fof.xlsx')"
   ]
  },
  {
   "cell_type": "code",
   "execution_count": 10,
   "id": "42b2e4c8",
   "metadata": {},
   "outputs": [
    {
     "name": "stdout",
     "output_type": "stream",
     "text": [
      "3286\n"
     ]
    }
   ],
   "source": [
    "\n",
    "for idx, row in rir[3000:].iterrows():\n",
    "    s_names = row['link']\n",
    "    urls = (f\"{s_names}\") \n",
    "    try: \n",
    "        driver.get(urls)\n",
    "        time.sleep(2)\n",
    "        subscribers = driver.find_element_by_xpath('//*[@id=\"owner-sub-count\"]').text\n",
    "        alls = driver.find_element_by_class_name('style-scope ytd-video-primary-info-renderer')\n",
    "        likes = alls.find_element_by_css_selector('#text').text\n",
    "        sub_data = {'subscribers':subscribers, 'likes':likes}\n",
    "        subs_list.append(sub_data)\n",
    "    except:\n",
    "        print(idx)\n",
    "        continue\n",
    "subs_df = pd.DataFrame(subs_list, columns=['subscribers','likes'])"
   ]
  },
  {
   "cell_type": "code",
   "execution_count": null,
   "id": "9bee1bb5",
   "metadata": {},
   "outputs": [],
   "source": [
    "subs_df_all = pd.concat([subs_df_2, subs_df], ignore_index=True)"
   ]
  },
  {
   "cell_type": "code",
   "execution_count": 8,
   "id": "41994a20",
   "metadata": {},
   "outputs": [],
   "source": [
    "subs_df_2 = subs_df"
   ]
  },
  {
   "cell_type": "code",
   "execution_count": 14,
   "id": "f81c1528",
   "metadata": {},
   "outputs": [],
   "source": [
    "subs_df_all.to_excel('path/211105.xlsx', index=False)"
   ]
  },
  {
   "cell_type": "code",
   "execution_count": 23,
   "id": "f24515ac",
   "metadata": {},
   "outputs": [],
   "source": [
    "subs_df = pd.read_excel('path/211105.xlsx')"
   ]
  },
  {
   "cell_type": "code",
   "execution_count": 24,
   "id": "aa70280d",
   "metadata": {},
   "outputs": [],
   "source": [
    "rir = pd.read_excel('path/rir_fof.xlsx')"
   ]
  },
  {
   "cell_type": "code",
   "execution_count": 25,
   "id": "85d65305",
   "metadata": {},
   "outputs": [],
   "source": [
    "rir = rir.dropna(axis=0)\n",
    "rir=rir.reset_index()\n",
    "rir = rir.drop(['index'], axis=1)"
   ]
  },
  {
   "cell_type": "code",
   "execution_count": null,
   "id": "0a83f348",
   "metadata": {
    "scrolled": true
   },
   "outputs": [],
   "source": [
    "all_df = pd.concat([rir, subs_df], axis=1)"
   ]
  },
  {
   "cell_type": "code",
   "execution_count": 27,
   "id": "52648c4a",
   "metadata": {
    "scrolled": true
   },
   "outputs": [],
   "source": [
    "all_df.to_excel('path/211106.xlsx', index=False)"
   ]
  },
  {
   "cell_type": "code",
   "execution_count": 2,
   "id": "7a939c55",
   "metadata": {},
   "outputs": [],
   "source": [
    "all_df = pd.read_excel('path/211106.xlsx', keep_default_na =False)"
   ]
  },
  {
   "cell_type": "code",
   "execution_count": 29,
   "id": "bd7b875f",
   "metadata": {},
   "outputs": [
    {
     "data": {
      "text/plain": [
       "'구독자 5.97만명'"
      ]
     },
     "execution_count": 29,
     "metadata": {},
     "output_type": "execute_result"
    }
   ],
   "source": [
    "all_df['subscribers'][67]"
   ]
  },
  {
   "cell_type": "code",
   "execution_count": 50,
   "id": "94848a7c",
   "metadata": {},
   "outputs": [
    {
     "data": {
      "text/plain": [
       "False    2652\n",
       "True      804\n",
       "Name: subscribers, dtype: int64"
      ]
     },
     "execution_count": 50,
     "metadata": {},
     "output_type": "execute_result"
    }
   ],
   "source": [
    "pd.value_counts(all_df['subscribers'] == '')"
   ]
  },
  {
   "cell_type": "code",
   "execution_count": null,
   "id": "0fb5bfb1",
   "metadata": {
    "scrolled": true
   },
   "outputs": [],
   "source": [
    "all_df = all_df[all_df.subscribers != '']"
   ]
  },
  {
   "cell_type": "code",
   "execution_count": 8,
   "id": "4b6f2990",
   "metadata": {},
   "outputs": [],
   "source": [
    "all_df = all_df.reset_index()\n",
    "all_df = all_df.drop(['index'], axis=1)"
   ]
  },
  {
   "cell_type": "code",
   "execution_count": 10,
   "id": "a83a7815",
   "metadata": {},
   "outputs": [],
   "source": [
    "# viewcount 전처리\n",
    "for i in range(len(all_df)):\n",
    "    if \"없음\" in all_df[\"viewcount\"][i]:\n",
    "        all_df[\"viewcount\"][i] = '0'\n",
    "    elif \"만회\" in all_df[\"viewcount\"][i]:\n",
    "        num = re.findall(\"\\d+\", all_df[\"viewcount\"][i])[0]\n",
    "        all_df[\"viewcount\"][i] = float(num)*10000\n",
    "\n",
    "    elif \"천회\" in all_df[\"viewcount\"][i]:\n",
    "        num = re.findall(\"\\d+\", all_df[\"viewcount\"][i])[0]\n",
    "        all_df[\"viewcount\"][i] = float(num)*1000\n",
    "\n",
    "    elif \"회\" in all_df[\"viewcount\"][i]:\n",
    "        num = re.findall(\"\\d+\", all_df[\"viewcount\"][i])[0]\n",
    "        all_df[\"viewcount\"][i] = float(num)"
   ]
  },
  {
   "cell_type": "code",
   "execution_count": 11,
   "id": "0ddc3809",
   "metadata": {},
   "outputs": [],
   "source": [
    "# regdate_ment 전처리 업로드 날짜만 int로\n",
    "for i in range(len(all_df)):\n",
    "    if \"분\" in all_df[\"regdate_ment\"][i]: # 분 추가함\n",
    "        all_df[\"regdate_ment\"][i] = 1\n",
    "    elif \"시간\" in all_df[\"regdate_ment\"][i]: \n",
    "        all_df[\"regdate_ment\"][i] = 1\n",
    "\n",
    "    elif \"일\" in all_df[\"regdate_ment\"][i]:\n",
    "        num = re.findall(\"\\d+\", all_df[\"regdate_ment\"][i])[0] #re가 리스트 형식으로 문자열을 불러옴 따라서 문자열만 출력\n",
    "        all_df[\"regdate_ment\"][i] = num\n",
    "\n",
    "    elif \"주\" in all_df[\"regdate_ment\"][i]:\n",
    "        num = re.findall(\"\\d+\", all_df[\"regdate_ment\"][i])[0]\n",
    "        all_df[\"regdate_ment\"][i] = int(num)*7 # 문자열을 숫자로 바꾼 후 계산후 문자열로 변환\n",
    "\n",
    "    elif \"개월\" in all_df[\"regdate_ment\"][i]:\n",
    "        num = re.findall(\"\\d+\", all_df[\"regdate_ment\"][i])[0]\n",
    "        all_df[\"regdate_ment\"][i] = int(num)*30"
   ]
  },
  {
   "cell_type": "code",
   "execution_count": 12,
   "id": "fcfda8de",
   "metadata": {},
   "outputs": [],
   "source": [
    "# likes 전처리\n",
    "for i in range(len(all_df)):\n",
    "    if '.' in all_df['likes'][i]:\n",
    "        if \"만\" in all_df[\"likes\"][i]:\n",
    "            t = all_df['likes'][i][:-1]\n",
    "            all_df[\"likes\"][i] = float(t)*10000\n",
    "\n",
    "        elif \"천\" in all_df[\"likes\"][i]:\n",
    "            t = all_df['likes'][i][:-1]\n",
    "            all_df[\"likes\"][i] = float(t)*1000\n",
    "    elif '' == all_df[\"likes\"][i]:\n",
    "        all_df[\"likes\"][i] = 0.\n",
    "    elif '좋아요' in all_df['likes'][i]:\n",
    "        all_df['likes'][i] = 0\n",
    "    elif \"만\" in all_df[\"likes\"][i]:\n",
    "        num = re.findall(\"\\d+\", all_df[\"likes\"][i])[0]\n",
    "        all_df[\"likes\"][i] = float(num)*10000\n",
    "\n",
    "    elif \"천\" in all_df[\"likes\"][i]:\n",
    "        num = re.findall(\"\\d+\", all_df[\"likes\"][i])[0]\n",
    "        all_df[\"likes\"][i] = float(num)*1000\n",
    "    else:\n",
    "        int(all_df['likes'][i])"
   ]
  },
  {
   "cell_type": "code",
   "execution_count": 13,
   "id": "0a01ba8a",
   "metadata": {},
   "outputs": [],
   "source": [
    "# subscribers 전처리\n",
    "for i in range(len(all_df)):\n",
    "    if '.' in all_df['subscribers'][i]:\n",
    "        if (\"만명\" in all_df[\"subscribers\"][i]) or ('만' in all_df[\"subscribers\"][i]):\n",
    "            t = all_df['subscribers'][i][3:-2]\n",
    "            all_df[\"subscribers\"][i] = float(t)*10000\n",
    "\n",
    "        elif (\"천명\" in all_df[\"subscribers\"][i]) or ('천' in all_df[\"subscribers\"][i]):\n",
    "            t = all_df['subscribers'][i][3:-2]\n",
    "            all_df[\"subscribers\"][i] = float(t)*1000\n",
    "\n",
    "#    elif '' == all_df[\"subscribers\"][i]:\n",
    "#        all_df[\"subscribers\"][i] = 0.\n",
    "\n",
    "    elif (\"만명\" in all_df[\"subscribers\"][i]) or ('만' in all_df[\"subscribers\"][i]):\n",
    "        num = re.findall(\"\\d+\", all_df[\"subscribers\"][i])[0]\n",
    "        all_df[\"subscribers\"][i] = float(num)*10000\n",
    "\n",
    "    elif (\"천명\" in all_df[\"subscribers\"][i]) or ('천' in all_df[\"subscribers\"][i]):\n",
    "        num = re.findall(\"\\d+\", all_df[\"subscribers\"][i])[0]\n",
    "        all_df[\"subscribers\"][i] = float(num)*1000\n",
    "\n",
    "    else:\n",
    "        num = re.findall(\"\\d+\", all_df[\"subscribers\"][i])[0]\n",
    "        all_df[\"subscribers\"][i] = num"
   ]
  },
  {
   "cell_type": "code",
   "execution_count": 14,
   "id": "f4fb9758",
   "metadata": {
    "scrolled": true
   },
   "outputs": [],
   "source": [
    "all_df.to_excel('path/211106_preall.xlsx', index=False)"
   ]
  },
  {
   "cell_type": "code",
   "execution_count": 28,
   "id": "78c03f1e",
   "metadata": {},
   "outputs": [],
   "source": [
    "pre_all = pd.read_excel('path/211106_preall.xlsx')"
   ]
  },
  {
   "cell_type": "code",
   "execution_count": null,
   "id": "c25f0300",
   "metadata": {
    "scrolled": true
   },
   "outputs": [],
   "source": [
    "pre_all_filtered = pre_all[~pre_all['title_name'].str.contains('중국 먹방', case=False)]\n",
    "pre_all_filtered = pre_all_filtered[~pre_all['title_name'].str.contains('tiktok', case=False)]\n",
    "pre_all_filtered = pre_all_filtered[~pre_all['title_name'].str.contains('tik tok', case=False)]"
   ]
  },
  {
   "cell_type": "code",
   "execution_count": null,
   "id": "4ccf0239",
   "metadata": {
    "scrolled": true
   },
   "outputs": [],
   "source": [
    "pre_all_filtered = pre_all_filtered[pre_all_filtered['subscribers'] <= 2000000]"
   ]
  },
  {
   "cell_type": "code",
   "execution_count": null,
   "id": "7a7efd9d",
   "metadata": {
    "scrolled": true
   },
   "outputs": [],
   "source": [
    "pre_all_filtered = pre_all_filtered.drop(['index'], axis=1)\n",
    "pre_all_filtered['index'] = pre_all_filtered.index"
   ]
  },
  {
   "cell_type": "code",
   "execution_count": 35,
   "id": "ce2c754f",
   "metadata": {},
   "outputs": [],
   "source": [
    "pre_all_filtered['index'] = pre_all_filtered['index'] + 7503"
   ]
  },
  {
   "cell_type": "code",
   "execution_count": 37,
   "id": "6696dd10",
   "metadata": {},
   "outputs": [],
   "source": [
    "pre_all_filtered.to_excel('path/211106_preall_fil.xlsx', index=False)"
   ]
  },
  {
   "cell_type": "code",
   "execution_count": 38,
   "id": "cb1b1062",
   "metadata": {},
   "outputs": [],
   "source": [
    "#이미지 저장 코드\n",
    "#pass / continue : continue 는 바로 다음 iteerows로\n",
    "#pass 는 다음 명령어로\n",
    "for idx, row in pre_all_filtered.iterrows():\n",
    "    try:\n",
    "        img = row['image']\n",
    "        urllib.request.urlretrieve(img, f\"{row['search_list'],row['index']}.jpg\")\n",
    "    except:\n",
    "        print(idx)"
   ]
  },
  {
   "cell_type": "code",
   "execution_count": 30,
   "id": "f8cca062",
   "metadata": {
    "scrolled": true
   },
   "outputs": [],
   "source": [
    "pre_all_filtered=pd.read_excel('path/211106_preall_fil.xlsx')\n",
    "pre_all_filtered = pre_all_filtered.dropna(axis=0)\n",
    "pre_all_filtered = pre_all_filtered.reset_index()"
   ]
  },
  {
   "cell_type": "code",
   "execution_count": 63,
   "id": "0508667c",
   "metadata": {},
   "outputs": [],
   "source": [
    "pre_all_filtered=pd.read_excel('path/pre_all_filtered.xlsx')"
   ]
  },
  {
   "cell_type": "code",
   "execution_count": null,
   "id": "78d74fd2",
   "metadata": {},
   "outputs": [],
   "source": []
  }
 ],
 "metadata": {
  "kernelspec": {
   "display_name": "Python 3 (ipykernel)",
   "language": "python",
   "name": "python3"
  },
  "language_info": {
   "codemirror_mode": {
    "name": "ipython",
    "version": 3
   },
   "file_extension": ".py",
   "mimetype": "text/x-python",
   "name": "python",
   "nbconvert_exporter": "python",
   "pygments_lexer": "ipython3",
   "version": "3.8.12"
  }
 },
 "nbformat": 4,
 "nbformat_minor": 5
}

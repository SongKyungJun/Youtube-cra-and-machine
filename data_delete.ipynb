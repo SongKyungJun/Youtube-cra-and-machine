{
 "cells": [
  {
   "cell_type": "code",
   "execution_count": 1,
   "id": "b505f7ab",
   "metadata": {},
   "outputs": [],
   "source": [
    "import pandas as pd\n",
    "import seaborn as sns\n",
    "import matplotlib.pyplot as plt\n",
    "import numpy as np"
   ]
  },
  {
   "cell_type": "code",
   "execution_count": 2,
   "id": "2191c725",
   "metadata": {},
   "outputs": [],
   "source": [
    "result_df = pd.read_excel(\"./211106_preall_fil.xlsx\")"
   ]
  },
  {
   "cell_type": "code",
   "execution_count": 15,
   "id": "20c405d3",
   "metadata": {},
   "outputs": [
    {
     "data": {
      "text/plain": [
       "삼겹살 먹방      381\n",
       "김치찌개 먹방     364\n",
       "순대 먹방       355\n",
       "카레 먹방       353\n",
       "분모자 먹방      346\n",
       "볶음밥 먹방      345\n",
       "푸드파이터 먹방    158\n",
       "먹방 ASMR      81\n",
       "곱창 먹방        76\n",
       "중국당면 먹방      15\n",
       "디저트 먹방        3\n",
       "라면 먹방         2\n",
       "Name: search_list, dtype: int64"
      ]
     },
     "execution_count": 15,
     "metadata": {},
     "output_type": "execute_result"
    }
   ],
   "source": [
    "pd.value_counts(result_df['search_list'])"
   ]
  },
  {
   "cell_type": "code",
   "execution_count": null,
   "id": "c565d8b3",
   "metadata": {
    "scrolled": true
   },
   "outputs": [],
   "source": [
    "result_df = result_df[~result_df['search_list'].str.contains('ASMR', case=False)]\n",
    "result_df = result_df[~result_df['search_list'].str.contains('푸드파이터', case=False)]"
   ]
  },
  {
   "cell_type": "code",
   "execution_count": 20,
   "id": "6c207236",
   "metadata": {},
   "outputs": [],
   "source": [
    "result_df.to_excel('path/kj2.xlsx', index=False)"
   ]
  }
 ],
 "metadata": {
  "kernelspec": {
   "display_name": "Python 3 (ipykernel)",
   "language": "python",
   "name": "python3"
  },
  "language_info": {
   "codemirror_mode": {
    "name": "ipython",
    "version": 3
   },
   "file_extension": ".py",
   "mimetype": "text/x-python",
   "name": "python",
   "nbconvert_exporter": "python",
   "pygments_lexer": "ipython3",
   "version": "3.8.12"
  }
 },
 "nbformat": 4,
 "nbformat_minor": 5
}
